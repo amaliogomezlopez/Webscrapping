{
  "metadata": {
    "language_info": {
      "codemirror_mode": {
        "name": "python",
        "version": 3
      },
      "file_extension": ".py",
      "mimetype": "text/x-python",
      "name": "python",
      "nbconvert_exporter": "python",
      "pygments_lexer": "ipython3",
      "version": "3.8"
    },
    "kernelspec": {
      "name": "python",
      "display_name": "Python (Pyodide)",
      "language": "python"
    }
  },
  "nbformat_minor": 4,
  "nbformat": 4,
  "cells": [
    {
      "cell_type": "code",
      "source": "import yfinance as yf\nimport pandas as pd\nimport requests\nfrom bs4 import BeautifulSoup\nimport plotly.graph_objects as go\nfrom plotly.subplots import make_subplots",
      "metadata": {},
      "execution_count": null,
      "outputs": []
    },
    {
      "cell_type": "code",
      "source": "!pip install yfinance\n#!pip install pandas\n#!pip install requests\n!pip install bs4\n#!pip install plotly",
      "metadata": {},
      "execution_count": null,
      "outputs": []
    },
    {
      "cell_type": "code",
      "source": "tesla=yf.Ticker('TSLA')",
      "metadata": {},
      "execution_count": null,
      "outputs": []
    },
    {
      "cell_type": "code",
      "source": "tesla_data=tesla.history(period=\"max\")",
      "metadata": {},
      "execution_count": null,
      "outputs": []
    },
    {
      "cell_type": "code",
      "source": "tesla_data.reset_index(inplace=True)\ntesla_data.head()",
      "metadata": {},
      "execution_count": null,
      "outputs": []
    },
    {
      "cell_type": "markdown",
      "source": "\tDate\tOpen\tHigh\tLow\tClose\tVolume\tDividends\tStock Splits\n0\t2010-06-29\t3.800\t5.000\t3.508\t4.778\t93831500\t0\t0.0\n1\t2010-06-30\t5.158\t6.084\t4.660\t4.766\t85935500\t0\t0.0\n2\t2010-07-01\t5.000\t5.184\t4.054\t4.392\t41094000\t0\t0.0\n3\t2010-07-02\t4.600\t4.620\t3.742\t3.840\t25699000\t0\t0.0\n4\t2010-07-06\t4.000\t4.000\t3.166\t3.222\t34334500\t0\t0.0",
      "metadata": {}
    },
    {
      "cell_type": "code",
      "source": "url=\" https://www.macrotrends.net/stocks/charts/TSLA/tesla/revenue.\"\nhtml_data=requests.get(url).text",
      "metadata": {},
      "execution_count": null,
      "outputs": []
    },
    {
      "cell_type": "code",
      "source": "beautiful_soup=BeautifulSoup(html_data,\"html5lib\")",
      "metadata": {},
      "execution_count": null,
      "outputs": []
    },
    {
      "cell_type": "code",
      "source": "tables=beautiful_soup.find_all(\"table\")\nfor index,table in enumerate(tables):\n    if(\"Tesla Quarterly Revenue\" in str(table)):\n        table_index=index\ntesla_revenue=pd.DataFrame(columns=[\"Date\",\"Revenue\"])\n\nfor row in tables[table_index].tbody.find_all('tr'):\n    col=row.find_all(\"td\")\n    if(col!=[]):\n        date=col[0].text\n        revenue=col[1].text.strip().replace(\"$\",\"\").replace(\",\",\"\")\n        tesla_revenue=tesla_revenue.append({\"Date\":date,\"Revenue\":revenue},ignore_index=True)\ntesla_revenue.head()",
      "metadata": {},
      "execution_count": null,
      "outputs": []
    },
    {
      "cell_type": "markdown",
      "source": "Date\tRevenue\n0\t2020-12-31\t10744\n1\t2020-09-30\t8771\n2\t2020-06-30\t6036\n3\t2020-03-31\t5985\n4\t2019-12-31\t7384",
      "metadata": {}
    },
    {
      "cell_type": "code",
      "source": "tesla_revenue.tail()",
      "metadata": {},
      "execution_count": null,
      "outputs": []
    },
    {
      "cell_type": "markdown",
      "source": "\tDate\tRevenue\n41\t2010-09-30\t31\n42\t2010-06-30\t28\n43\t2010-03-31\t21\n45\t2009-09-30\t46\n46\t2009-06-30\t27",
      "metadata": {}
    },
    {
      "cell_type": "code",
      "source": "",
      "metadata": {},
      "execution_count": null,
      "outputs": []
    },
    {
      "cell_type": "code",
      "source": "gmestop=yf.Ticker(\"GME\")",
      "metadata": {},
      "execution_count": null,
      "outputs": []
    },
    {
      "cell_type": "code",
      "source": "gme_data=gmestop.history(period=\"max\")",
      "metadata": {},
      "execution_count": null,
      "outputs": []
    },
    {
      "cell_type": "code",
      "source": "gme_data.reset_index(inplace=True)\ngme_data.head()",
      "metadata": {},
      "execution_count": null,
      "outputs": []
    },
    {
      "cell_type": "markdown",
      "source": "\nindex\tDate\tOpen\tHigh\tLow\tClose\tVolume\tDividends\tStock Splits\n0\t0\t2002-02-13\t6.480513\t6.773399\t6.413183\t6.766666\t19054000\t0.0\t0.0\n1\t1\t2002-02-14\t6.850831\t6.864296\t6.682506\t6.733003\t2755400\t0.0\t0.0\n2\t2\t2002-02-15\t6.733001\t6.749833\t6.632006\t6.699336\t2097400\t0.0\t0.0\n3\t3\t2002-02-19\t6.665671\t6.665671\t6.312189\t6.430017\t1852600\t0.0\t0.0\n4\t4\t2002-02-20\t6.463681\t6.648838\t6.413183\t6.648838\t1723200\t0.0\t0.0",
      "metadata": {}
    },
    {
      "cell_type": "code",
      "source": "",
      "metadata": {},
      "execution_count": null,
      "outputs": []
    },
    {
      "cell_type": "code",
      "source": "url=\"https://www.macrotrends.net/stocks/charts/GME/gamestop/revenue.\"\nhtml_data=requests.get(url).text",
      "metadata": {},
      "execution_count": null,
      "outputs": []
    },
    {
      "cell_type": "code",
      "source": "beautiful_soup=BeautifulSoup(html_data,\"html.parser\")",
      "metadata": {},
      "execution_count": null,
      "outputs": []
    },
    {
      "cell_type": "code",
      "source": "tables=beautiful_soup.find_all(\"table\")\nfor index,table in enumerate(tables):\n    if(str(table)==\"GameStop Quarterly Revenue\"):\n        table_index=index\n\ngme_revenue=pd.DataFrame(columns=[\"Date\",\"Revenue\"])\n\nfor row in tables[table_index].tbody.find_all(\"tr\"):\n    col=row.find_all(\"td\")\n    if(col!=[]):\n        date=col[0].text\n        revenue=col[1].text.replace(\"$\",\"\").replace(\",\",\"\")\n        gme_revenue=gme_revenue.append({\"Date\":date,\"Revenue\":revenue},ignore_index=True)\ngme_revenue.head()",
      "metadata": {},
      "execution_count": null,
      "outputs": []
    },
    {
      "cell_type": "code",
      "source": "gme_revenue.tail()",
      "metadata": {},
      "execution_count": null,
      "outputs": []
    },
    {
      "cell_type": "markdown",
      "source": "\tDate\tRevenue\n59\t2006-01-31\t1667\n60\t2005-10-31\t534\n61\t2005-07-31\t416\n62\t2005-04-30\t475\n63\t2005-01-31\t709",
      "metadata": {}
    },
    {
      "cell_type": "code",
      "source": "",
      "metadata": {},
      "execution_count": null,
      "outputs": []
    },
    {
      "cell_type": "code",
      "source": "make_graph(tesla_data,tesla_revenue,'Tesla')",
      "metadata": {},
      "execution_count": null,
      "outputs": []
    },
    {
      "cell_type": "code",
      "source": "",
      "metadata": {},
      "execution_count": null,
      "outputs": []
    },
    {
      "cell_type": "code",
      "source": "make_graph(gme_data,gme_revenue,'GameStop')",
      "metadata": {},
      "execution_count": null,
      "outputs": []
    },
    {
      "cell_type": "code",
      "source": "",
      "metadata": {},
      "execution_count": null,
      "outputs": []
    },
    {
      "cell_type": "code",
      "source": "",
      "metadata": {},
      "execution_count": null,
      "outputs": []
    }
  ]
}